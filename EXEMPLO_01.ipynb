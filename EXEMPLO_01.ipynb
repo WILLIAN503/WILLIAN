{
  "nbformat": 4,
  "nbformat_minor": 0,
  "metadata": {
    "colab": {
      "name": "EXEMPLO_01.ipynb",
      "provenance": [],
      "authorship_tag": "ABX9TyOPzbX/pgF6qprNlpLXvXTt",
      "include_colab_link": true
    },
    "kernelspec": {
      "name": "python3",
      "display_name": "Python 3"
    }
  },
  "cells": [
    {
      "cell_type": "markdown",
      "metadata": {
        "id": "view-in-github",
        "colab_type": "text"
      },
      "source": [
        "<a href=\"https://colab.research.google.com/github/WILLIAN503/WILLIAN/blob/master/EXEMPLO_01.ipynb\" target=\"_parent\"><img src=\"https://colab.research.google.com/assets/colab-badge.svg\" alt=\"Open In Colab\"/></a>"
      ]
    },
    {
      "cell_type": "code",
      "metadata": {
        "id": "D-V-nDtUyPAH",
        "colab_type": "code",
        "colab": {
          "base_uri": "https://localhost:8080/",
          "height": 68
        },
        "outputId": "282ff84e-d665-4cbc-cf27-0204b62a620d"
      },
      "source": [
        "### ISTO É UM COMANDO DE SAIDA\n",
        "print ('ola mundo cruel!!!')\n",
        "print('cruel word!!!')\n",
        "print(\"com aspas duplas\")\n",
        "\n",
        "# a hastag é um comentário no código, ou seja, o programa não irá processar nenhuma linha que estiver marcada\n",
        "# o comando print() mostra na tela, ou seja, é uma saída de valor(es). \n",
        "# O conteúdo texto deve estar entre aspas (simples ou dupla)"
      ],
      "execution_count": 3,
      "outputs": [
        {
          "output_type": "stream",
          "text": [
            "ola mundo cruel!!!\n",
            "cruel word!!!\n",
            "com aspas duplas\n"
          ],
          "name": "stdout"
        }
      ]
    },
    {
      "cell_type": "code",
      "metadata": {
        "id": "6pQPjZA56xga",
        "colab_type": "code",
        "colab": {
          "base_uri": "https://localhost:8080/",
          "height": 34
        },
        "outputId": "9e4a2016-b908-42b8-f08f-61bbb7a76693"
      },
      "source": [
        "print('willian', 'marques', 'dos', 'santos')"
      ],
      "execution_count": 4,
      "outputs": [
        {
          "output_type": "stream",
          "text": [
            "willian marques dos santos\n"
          ],
          "name": "stdout"
        }
      ]
    }
  ]
}